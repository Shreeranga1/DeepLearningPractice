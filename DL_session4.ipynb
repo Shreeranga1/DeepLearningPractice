{
  "nbformat": 4,
  "nbformat_minor": 0,
  "metadata": {
    "colab": {
      "name": "DL_session4.ipynb",
      "provenance": [],
      "authorship_tag": "ABX9TyNTAV8iPIE0b9AJHbeYHaCj",
      "include_colab_link": true
    },
    "kernelspec": {
      "name": "python3",
      "display_name": "Python 3"
    },
    "language_info": {
      "name": "python"
    },
    "accelerator": "GPU"
  },
  "cells": [
    {
      "cell_type": "markdown",
      "metadata": {
        "id": "view-in-github",
        "colab_type": "text"
      },
      "source": [
        "<a href=\"https://colab.research.google.com/github/Shreeranga1/DeepLearningPractice/blob/main/DL_session4.ipynb\" target=\"_parent\"><img src=\"https://colab.research.google.com/assets/colab-badge.svg\" alt=\"Open In Colab\"/></a>"
      ]
    },
    {
      "cell_type": "code",
      "execution_count": 1,
      "metadata": {
        "id": "d9cZgFOJp2kp"
      },
      "outputs": [],
      "source": [
        "import numpy as np\n",
        "import pandas as pd\n",
        "import tensorflow\n",
        "import matplotlib.pyplot as plt"
      ]
    },
    {
      "cell_type": "code",
      "source": [
        "from tensorflow.keras.datasets import mnist\n",
        "(X_train,y_train),(X_test,ytest)=mnist.load_data()"
      ],
      "metadata": {
        "colab": {
          "base_uri": "https://localhost:8080/"
        },
        "id": "gyixG9LoqGQW",
        "outputId": "5ce82d89-40f6-4661-ad9b-5bfddedf22c6"
      },
      "execution_count": 2,
      "outputs": [
        {
          "output_type": "stream",
          "name": "stdout",
          "text": [
            "Downloading data from https://storage.googleapis.com/tensorflow/tf-keras-datasets/mnist.npz\n",
            "11493376/11490434 [==============================] - 0s 0us/step\n",
            "11501568/11490434 [==============================] - 0s 0us/step\n"
          ]
        }
      ]
    },
    {
      "cell_type": "code",
      "source": [
        "plt.imshow(X_train[0])"
      ],
      "metadata": {
        "colab": {
          "base_uri": "https://localhost:8080/",
          "height": 283
        },
        "id": "UIhFCQuGqfD2",
        "outputId": "b89799d6-00dd-4f3c-e7ff-711a66618fa7"
      },
      "execution_count": 3,
      "outputs": [
        {
          "output_type": "execute_result",
          "data": {
            "text/plain": [
              "<matplotlib.image.AxesImage at 0x7ff8d148cf50>"
            ]
          },
          "metadata": {},
          "execution_count": 3
        },
        {
          "output_type": "display_data",
          "data": {
            "image/png": "[encoded data removed]",
            "text/plain": [
              "<Figure size 432x288 with 1 Axes>"
            ]
          },
          "metadata": {
            "needs_background": "light"
          }
        }
      ]
    },
    {
      "cell_type": "code",
      "source": [
        "X_train=X_train.reshape(X_train.shape[0],28,28,1)\n",
        "X_test=X_test.reshape(X_test.shape[0],28,28,1)"
      ],
      "metadata": {
        "id": "5GikVJSRqsiH"
      },
      "execution_count": 4,
      "outputs": []
    },
    {
      "cell_type": "code",
      "source": [
        "X_train = X_train.astype('float32')\n",
        "X_test = X_test.astype('float32')\n",
        "\n",
        "X_train /= 255\n",
        "X_test /= 255"
      ],
      "metadata": {
        "id": "8zknM7Gxrb_t"
      },
      "execution_count": 5,
      "outputs": []
    },
    {
      "cell_type": "code",
      "source": [
        "from tensorflow.keras.utils import to_categorical\n",
        "y_train=to_categorical(y_train,num_classes=10)\n",
        "y_test=to_categorical(ytest,num_classes=10)\n"
      ],
      "metadata": {
        "id": "AfoG5R6DreZe"
      },
      "execution_count": 6,
      "outputs": []
    },
    {
      "cell_type": "code",
      "source": [
        "from tensorflow.keras.layers import Conv2D,Flatten,Dense\n",
        "from tensorflow.keras.models import Sequential"
      ],
      "metadata": {
        "id": "Y1GmVJ0fsCYt"
      },
      "execution_count": 7,
      "outputs": []
    },
    {
      "cell_type": "code",
      "source": [
        "model=Sequential()\n",
        "model.add(Conv2D(filters=32,kernel_size=3,activation=\"relu\",input_shape=(28,28,1)))\n",
        "model.add(Conv2D(filters=32,kernel_size=3,activation=\"relu\"))\n",
        "model.add(Flatten())\n",
        "model.add(Dense(128,activation=\"relu\"))\n",
        "model.add(Dense(10,activation=\"softmax\"))"
      ],
      "metadata": {
        "id": "j5wv5bBxtL6k"
      },
      "execution_count": 8,
      "outputs": []
    },
    {
      "cell_type": "code",
      "source": [
        "model.compile(loss=\"categorical_crossentropy\",metrics=[\"accuracy\"],optimizer=\"adam\")\n",
        "\n",
        "model.fit(x=X_train,y=y_train,batch_size=32,epochs=10,validation_split=0.3)"
      ],
      "metadata": {
        "colab": {
          "base_uri": "https://localhost:8080/"
        },
        "id": "4O0uHqgwucLs",
        "outputId": "835cf7fa-4131-4380-c2a5-477d18645119"
      },
      "execution_count": 9,
      "outputs": [
        {
          "output_type": "stream",
          "name": "stdout",
          "text": [
            "Epoch 1/10\n",
            "1313/1313 [==============================] - 27s 11ms/step - loss: 0.1287 - accuracy: 0.9608 - val_loss: 0.0610 - val_accuracy: 0.9819\n",
            "Epoch 2/10\n",
            "1313/1313 [==============================] - 14s 11ms/step - loss: 0.0411 - accuracy: 0.9870 - val_loss: 0.0529 - val_accuracy: 0.9839\n",
            "Epoch 3/10\n",
            "1313/1313 [==============================] - 14s 11ms/step - loss: 0.0246 - accuracy: 0.9920 - val_loss: 0.0551 - val_accuracy: 0.9840\n",
            "Epoch 4/10\n",
            "1313/1313 [==============================] - 14s 11ms/step - loss: 0.0161 - accuracy: 0.9944 - val_loss: 0.0581 - val_accuracy: 0.9841\n",
            "Epoch 5/10\n",
            "1313/1313 [==============================] - 14s 11ms/step - loss: 0.0107 - accuracy: 0.9965 - val_loss: 0.0594 - val_accuracy: 0.9852\n",
            "Epoch 6/10\n",
            "1313/1313 [==============================] - 15s 11ms/step - loss: 0.0102 - accuracy: 0.9967 - val_loss: 0.0588 - val_accuracy: 0.9858\n",
            "Epoch 7/10\n",
            "1313/1313 [==============================] - 15s 11ms/step - loss: 0.0088 - accuracy: 0.9970 - val_loss: 0.0754 - val_accuracy: 0.9851\n",
            "Epoch 8/10\n",
            "1313/1313 [==============================] - 15s 11ms/step - loss: 0.0066 - accuracy: 0.9978 - val_loss: 0.0804 - val_accuracy: 0.9839\n",
            "Epoch 9/10\n",
            "1313/1313 [==============================] - 14s 11ms/step - loss: 0.0054 - accuracy: 0.9983 - val_loss: 0.0944 - val_accuracy: 0.9823\n",
            "Epoch 10/10\n",
            "1313/1313 [==============================] - 14s 11ms/step - loss: 0.0040 - accuracy: 0.9988 - val_loss: 0.0906 - val_accuracy: 0.9847\n"
          ]
        },
        {
          "output_type": "execute_result",
          "data": {
            "text/plain": [
              "<keras.callbacks.History at 0x7ff8c01b1690>"
            ]
          },
          "metadata": {},
          "execution_count": 9
        }
      ]
    },
    {
      "cell_type": "code",
      "source": [
        "from tensorflow.keras.layers import Conv2D, Dropout, MaxPooling2D"
      ],
      "metadata": {
        "id": "Fc0aF4Efv3EF"
      },
      "execution_count": 10,
      "outputs": []
    },
    {
      "cell_type": "code",
      "source": [
        "model=Sequential()\n",
        "model.add(Conv2D(filters=32,kernel_size=3,activation=\"relu\",input_shape=(28,28,1)))\n",
        "model.add(Conv2D(filters=32,kernel_size=3,activation=\"relu\"))\n",
        "model.add(MaxPooling2D(pool_size=(2,2)))\n",
        "model.add(Dropout(rate=0.2))\n",
        "model.add(Flatten())\n",
        "model.add(Dense(128,activation=\"relu\"))\n",
        "model.add(Dense(10,activation=\"softmax\"))"
      ],
      "metadata": {
        "id": "8PvH60kgwUCf"
      },
      "execution_count": 12,
      "outputs": []
    },
    {
      "cell_type": "code",
      "source": [
        "model.compile(loss=\"categorical_crossentropy\",metrics=[\"accuracy\"],optimizer=\"adam\")\n",
        "model.fit(x=X_train, y=y_train, batch_size=32, epochs=10, validation_data=(X_test, y_test))"
      ],
      "metadata": {
        "colab": {
          "base_uri": "https://localhost:8080/"
        },
        "id": "klnbntC4xYj5",
        "outputId": "11c554d3-fee3-485e-ad6d-bf0d5090ecc6"
      },
      "execution_count": 13,
      "outputs": [
        {
          "output_type": "stream",
          "name": "stdout",
          "text": [
            "Epoch 1/10\n",
            "1875/1875 [==============================] - 19s 10ms/step - loss: 0.1223 - accuracy: 0.9613 - val_loss: 0.0407 - val_accuracy: 0.9864\n",
            "Epoch 2/10\n",
            "1875/1875 [==============================] - 18s 10ms/step - loss: 0.0441 - accuracy: 0.9866 - val_loss: 0.0389 - val_accuracy: 0.9879\n",
            "Epoch 3/10\n",
            "1875/1875 [==============================] - 18s 10ms/step - loss: 0.0285 - accuracy: 0.9909 - val_loss: 0.0348 - val_accuracy: 0.9887\n",
            "Epoch 4/10\n",
            "1875/1875 [==============================] - 18s 10ms/step - loss: 0.0218 - accuracy: 0.9929 - val_loss: 0.0351 - val_accuracy: 0.9885\n",
            "Epoch 5/10\n",
            "1875/1875 [==============================] - 18s 10ms/step - loss: 0.0165 - accuracy: 0.9945 - val_loss: 0.0333 - val_accuracy: 0.9908\n",
            "Epoch 6/10\n",
            "1875/1875 [==============================] - 18s 10ms/step - loss: 0.0128 - accuracy: 0.9955 - val_loss: 0.0382 - val_accuracy: 0.9884\n",
            "Epoch 7/10\n",
            "1875/1875 [==============================] - 18s 10ms/step - loss: 0.0111 - accuracy: 0.9963 - val_loss: 0.0395 - val_accuracy: 0.9889\n",
            "Epoch 8/10\n",
            "1875/1875 [==============================] - 18s 10ms/step - loss: 0.0082 - accuracy: 0.9973 - val_loss: 0.0377 - val_accuracy: 0.9910\n",
            "Epoch 9/10\n",
            "1875/1875 [==============================] - 18s 10ms/step - loss: 0.0088 - accuracy: 0.9970 - val_loss: 0.0366 - val_accuracy: 0.9904\n",
            "Epoch 10/10\n",
            "1875/1875 [==============================] - 18s 10ms/step - loss: 0.0066 - accuracy: 0.9977 - val_loss: 0.0445 - val_accuracy: 0.9902\n"
          ]
        },
        {
          "output_type": "execute_result",
          "data": {
            "text/plain": [
              "<keras.callbacks.History at 0x7ff8c0263990>"
            ]
          },
          "metadata": {},
          "execution_count": 13
        }
      ]
    },
    {
      "cell_type": "code",
      "source": [
        ""
      ],
      "metadata": {
        "id": "EVBFA2fWx_NB"
      },
      "execution_count": null,
      "outputs": []
    }
  ]
}