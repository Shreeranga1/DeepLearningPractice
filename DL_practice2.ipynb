{
  "nbformat": 4,
  "nbformat_minor": 0,
  "metadata": {
    "colab": {
      "name": "DL_practice2.ipynb",
      "provenance": [],
      "authorship_tag": "ABX9TyNmoWFjlfRfuo6nwE0Rj/zW",
      "include_colab_link": true
    },
    "kernelspec": {
      "name": "python3",
      "display_name": "Python 3"
    },
    "language_info": {
      "name": "python"
    },
    "accelerator": "GPU"
  },
  "cells": [
    {
      "cell_type": "markdown",
      "metadata": {
        "id": "view-in-github",
        "colab_type": "text"
      },
      "source": [
        "<a href=\"https://colab.research.google.com/github/Shreeranga1/DeepLearningPractice/blob/main/DL_practice2.ipynb\" target=\"_parent\"><img src=\"https://colab.research.google.com/assets/colab-badge.svg\" alt=\"Open In Colab\"/></a>"
      ]
    },
    {
      "cell_type": "code",
      "execution_count": 6,
      "metadata": {
        "id": "_6qZeG6FHnjV"
      },
      "outputs": [],
      "source": [
        "import tensorflow as tf\n",
        "import numpy as np\n",
        "import matplotlib.pyplot as plt\n",
        "import pandas as pd"
      ]
    },
    {
      "cell_type": "code",
      "source": [
        "X=np.load(\"/content/sample_data/X-1.npy\")\n",
        "Y=np.load(\"/content/sample_data/Y-1.npy\")"
      ],
      "metadata": {
        "id": "P4_bDoHLISjs"
      },
      "execution_count": 8,
      "outputs": []
    },
    {
      "cell_type": "code",
      "source": [
        "plt.imshow(X[0])"
      ],
      "metadata": {
        "colab": {
          "base_uri": "https://localhost:8080/",
          "height": 286
        },
        "id": "Nc-qoQcSI5l7",
        "outputId": "76cf99e5-16e1-4c0e-b441-823858a93896"
      },
      "execution_count": 9,
      "outputs": [
        {
          "output_type": "execute_result",
          "data": {
            "text/plain": [
              "<matplotlib.image.AxesImage at 0x7f410b20fb90>"
            ]
          },
          "metadata": {},
          "execution_count": 9
        },
        {
          "output_type": "display_data",
          "data": {
            "image/png": "[encoded data removed]",
            "text/plain": [
              "<Figure size 432x288 with 1 Axes>"
            ]
          },
          "metadata": {
            "needs_background": "light"
          }
        }
      ]
    },
    {
      "cell_type": "code",
      "source": [
        "Y[0]"
      ],
      "metadata": {
        "colab": {
          "base_uri": "https://localhost:8080/"
        },
        "id": "e57ilSg-K8sw",
        "outputId": "ae02593b-1f41-44c4-b553-6079f1013dca"
      },
      "execution_count": 10,
      "outputs": [
        {
          "output_type": "execute_result",
          "data": {
            "text/plain": [
              "array([1., 0., 0., 0., 0., 0., 0., 0., 0., 0.])"
            ]
          },
          "metadata": {},
          "execution_count": 10
        }
      ]
    },
    {
      "cell_type": "code",
      "source": [
        "from sklearn.model_selection import train_test_split\n",
        "x_train,x_test,y_train,y_test=train_test_split(X,Y,test_size=0.2,random_state=45)"
      ],
      "metadata": {
        "id": "_-2gR8kNLDyO"
      },
      "execution_count": 11,
      "outputs": []
    },
    {
      "cell_type": "code",
      "source": [
        "x_train.shape"
      ],
      "metadata": {
        "colab": {
          "base_uri": "https://localhost:8080/"
        },
        "id": "OQtRN8YQLeoO",
        "outputId": "2342c597-02db-4459-a267-c10b57c4c4c0"
      },
      "execution_count": 12,
      "outputs": [
        {
          "output_type": "execute_result",
          "data": {
            "text/plain": [
              "(1649, 64, 64)"
            ]
          },
          "metadata": {},
          "execution_count": 12
        }
      ]
    },
    {
      "cell_type": "code",
      "source": [
        "Xtrain=x_train.reshape(1649,64*64)"
      ],
      "metadata": {
        "id": "9xuuKUL_Lhx-"
      },
      "execution_count": 13,
      "outputs": []
    },
    {
      "cell_type": "code",
      "source": [
        "Xtest=x_test.reshape(413,64*64) # Simillary reshape the Xtest also\n"
      ],
      "metadata": {
        "id": "SSPrUJR1L3K-"
      },
      "execution_count": 14,
      "outputs": []
    },
    {
      "cell_type": "code",
      "source": [
        "Xtrain1=Xtrain/255.\n",
        "Xtest1=Xtest/255."
      ],
      "metadata": {
        "id": "f81unfSNL5Nl"
      },
      "execution_count": 15,
      "outputs": []
    },
    {
      "cell_type": "code",
      "source": [
        "from tensorflow.keras.models import Sequential\n",
        "from tensorflow.keras.layers import Dense"
      ],
      "metadata": {
        "id": "BO3QKlRuL-1F"
      },
      "execution_count": 16,
      "outputs": []
    },
    {
      "cell_type": "code",
      "source": [
        "model=Sequential()\n",
        "model.add(Dense(units=512,activation='relu',input_dim=4096))\n",
        "model.add(Dense(units=256,activation=\"relu\"))\n",
        "model.add(Dense(units=10,activation=\"softmax\"))"
      ],
      "metadata": {
        "id": "2E3oVVaWMML1"
      },
      "execution_count": 17,
      "outputs": []
    },
    {
      "cell_type": "code",
      "source": [
        "model.compile(optimizer=\"adam\",loss=\"categorical_crossentropy\",metrics=['accuracy'])"
      ],
      "metadata": {
        "id": "p_sQO3uoNux0"
      },
      "execution_count": 18,
      "outputs": []
    },
    {
      "cell_type": "code",
      "source": [
        "model.fit(Xtrain,y_train,batch_size=32,epochs=100)"
      ],
      "metadata": {
        "colab": {
          "base_uri": "https://localhost:8080/"
        },
        "id": "LICsPAUGN_p8",
        "outputId": "21b0d66e-33a5-4a51-e7f0-ddc170eecfbb"
      },
      "execution_count": 19,
      "outputs": [
        {
          "output_type": "stream",
          "name": "stdout",
          "text": [
            "Epoch 1/100\n",
            "52/52 [==============================] - 2s 5ms/step - loss: 2.8817 - accuracy: 0.1401\n",
            "Epoch 2/100\n",
            "52/52 [==============================] - 0s 5ms/step - loss: 2.0877 - accuracy: 0.2505\n",
            "Epoch 3/100\n",
            "52/52 [==============================] - 0s 5ms/step - loss: 1.8011 - accuracy: 0.3651\n",
            "Epoch 4/100\n",
            "52/52 [==============================] - 0s 5ms/step - loss: 1.5836 - accuracy: 0.4512\n",
            "Epoch 5/100\n",
            "52/52 [==============================] - 0s 5ms/step - loss: 1.4235 - accuracy: 0.4906\n",
            "Epoch 6/100\n",
            "52/52 [==============================] - 0s 5ms/step - loss: 1.3349 - accuracy: 0.5264\n",
            "Epoch 7/100\n",
            "52/52 [==============================] - 0s 5ms/step - loss: 1.1833 - accuracy: 0.5828\n",
            "Epoch 8/100\n",
            "52/52 [==============================] - 0s 5ms/step - loss: 1.1651 - accuracy: 0.5943\n",
            "Epoch 9/100\n",
            "52/52 [==============================] - 0s 5ms/step - loss: 1.0579 - accuracy: 0.6477\n",
            "Epoch 10/100\n",
            "52/52 [==============================] - 0s 5ms/step - loss: 1.0181 - accuracy: 0.6525\n",
            "Epoch 11/100\n",
            "52/52 [==============================] - 0s 5ms/step - loss: 1.0025 - accuracy: 0.6701\n",
            "Epoch 12/100\n",
            "52/52 [==============================] - 0s 5ms/step - loss: 0.9515 - accuracy: 0.6871\n",
            "Epoch 13/100\n",
            "52/52 [==============================] - 0s 5ms/step - loss: 0.9118 - accuracy: 0.6968\n",
            "Epoch 14/100\n",
            "52/52 [==============================] - 0s 5ms/step - loss: 0.9025 - accuracy: 0.6919\n",
            "Epoch 15/100\n",
            "52/52 [==============================] - 0s 5ms/step - loss: 0.8088 - accuracy: 0.7380\n",
            "Epoch 16/100\n",
            "52/52 [==============================] - 0s 5ms/step - loss: 0.8367 - accuracy: 0.7241\n",
            "Epoch 17/100\n",
            "52/52 [==============================] - 0s 5ms/step - loss: 0.8578 - accuracy: 0.7204\n",
            "Epoch 18/100\n",
            "52/52 [==============================] - 0s 5ms/step - loss: 0.6833 - accuracy: 0.7696\n",
            "Epoch 19/100\n",
            "52/52 [==============================] - 0s 5ms/step - loss: 0.6975 - accuracy: 0.7550\n",
            "Epoch 20/100\n",
            "52/52 [==============================] - 0s 5ms/step - loss: 0.6852 - accuracy: 0.7811\n",
            "Epoch 21/100\n",
            "52/52 [==============================] - 0s 5ms/step - loss: 0.6915 - accuracy: 0.7647\n",
            "Epoch 22/100\n",
            "52/52 [==============================] - 0s 5ms/step - loss: 0.6666 - accuracy: 0.7768\n",
            "Epoch 23/100\n",
            "52/52 [==============================] - 0s 5ms/step - loss: 0.6860 - accuracy: 0.7696\n",
            "Epoch 24/100\n",
            "52/52 [==============================] - 0s 5ms/step - loss: 0.6012 - accuracy: 0.8029\n",
            "Epoch 25/100\n",
            "52/52 [==============================] - 0s 5ms/step - loss: 0.6168 - accuracy: 0.7908\n",
            "Epoch 26/100\n",
            "52/52 [==============================] - 0s 5ms/step - loss: 0.6202 - accuracy: 0.7871\n",
            "Epoch 27/100\n",
            "52/52 [==============================] - 0s 5ms/step - loss: 0.6989 - accuracy: 0.7586\n",
            "Epoch 28/100\n",
            "52/52 [==============================] - 0s 5ms/step - loss: 0.6183 - accuracy: 0.8023\n",
            "Epoch 29/100\n",
            "52/52 [==============================] - 0s 5ms/step - loss: 0.6088 - accuracy: 0.7890\n",
            "Epoch 30/100\n",
            "52/52 [==============================] - 0s 5ms/step - loss: 0.5810 - accuracy: 0.8072\n",
            "Epoch 31/100\n",
            "52/52 [==============================] - 0s 5ms/step - loss: 0.6049 - accuracy: 0.8108\n",
            "Epoch 32/100\n",
            "52/52 [==============================] - 0s 5ms/step - loss: 0.5947 - accuracy: 0.7956\n",
            "Epoch 33/100\n",
            "52/52 [==============================] - 0s 5ms/step - loss: 0.5554 - accuracy: 0.8132\n",
            "Epoch 34/100\n",
            "52/52 [==============================] - 0s 6ms/step - loss: 0.4920 - accuracy: 0.8557\n",
            "Epoch 35/100\n",
            "52/52 [==============================] - 0s 5ms/step - loss: 0.5162 - accuracy: 0.8381\n",
            "Epoch 36/100\n",
            "52/52 [==============================] - 0s 5ms/step - loss: 0.5363 - accuracy: 0.8205\n",
            "Epoch 37/100\n",
            "52/52 [==============================] - 0s 5ms/step - loss: 0.5290 - accuracy: 0.8241\n",
            "Epoch 38/100\n",
            "52/52 [==============================] - 0s 5ms/step - loss: 0.5366 - accuracy: 0.8211\n",
            "Epoch 39/100\n",
            "52/52 [==============================] - 0s 5ms/step - loss: 0.4323 - accuracy: 0.8508\n",
            "Epoch 40/100\n",
            "52/52 [==============================] - 0s 5ms/step - loss: 0.4534 - accuracy: 0.8490\n",
            "Epoch 41/100\n",
            "52/52 [==============================] - 0s 5ms/step - loss: 0.4861 - accuracy: 0.8369\n",
            "Epoch 42/100\n",
            "52/52 [==============================] - 0s 5ms/step - loss: 0.4427 - accuracy: 0.8508\n",
            "Epoch 43/100\n",
            "52/52 [==============================] - 0s 5ms/step - loss: 0.3946 - accuracy: 0.8587\n",
            "Epoch 44/100\n",
            "52/52 [==============================] - 0s 5ms/step - loss: 0.4020 - accuracy: 0.8714\n",
            "Epoch 45/100\n",
            "52/52 [==============================] - 0s 5ms/step - loss: 0.4126 - accuracy: 0.8575\n",
            "Epoch 46/100\n",
            "52/52 [==============================] - 0s 5ms/step - loss: 0.5239 - accuracy: 0.8247\n",
            "Epoch 47/100\n",
            "52/52 [==============================] - 0s 5ms/step - loss: 0.3437 - accuracy: 0.8836\n",
            "Epoch 48/100\n",
            "52/52 [==============================] - 0s 5ms/step - loss: 0.3036 - accuracy: 0.8969\n",
            "Epoch 49/100\n",
            "52/52 [==============================] - 0s 5ms/step - loss: 0.3394 - accuracy: 0.8836\n",
            "Epoch 50/100\n",
            "52/52 [==============================] - 0s 5ms/step - loss: 0.3115 - accuracy: 0.9018\n",
            "Epoch 51/100\n",
            "52/52 [==============================] - 0s 5ms/step - loss: 0.3647 - accuracy: 0.8757\n",
            "Epoch 52/100\n",
            "52/52 [==============================] - 0s 5ms/step - loss: 0.3845 - accuracy: 0.8666\n",
            "Epoch 53/100\n",
            "52/52 [==============================] - 0s 5ms/step - loss: 0.2983 - accuracy: 0.9078\n",
            "Epoch 54/100\n",
            "52/52 [==============================] - 0s 5ms/step - loss: 0.2660 - accuracy: 0.9200\n",
            "Epoch 55/100\n",
            "52/52 [==============================] - 0s 5ms/step - loss: 0.3422 - accuracy: 0.8824\n",
            "Epoch 56/100\n",
            "52/52 [==============================] - 0s 5ms/step - loss: 0.3304 - accuracy: 0.8866\n",
            "Epoch 57/100\n",
            "52/52 [==============================] - 0s 5ms/step - loss: 0.2437 - accuracy: 0.9175\n",
            "Epoch 58/100\n",
            "52/52 [==============================] - 0s 5ms/step - loss: 0.3157 - accuracy: 0.8993\n",
            "Epoch 59/100\n",
            "52/52 [==============================] - 0s 5ms/step - loss: 0.3791 - accuracy: 0.8660\n",
            "Epoch 60/100\n",
            "52/52 [==============================] - 0s 5ms/step - loss: 0.3020 - accuracy: 0.8981\n",
            "Epoch 61/100\n",
            "52/52 [==============================] - 0s 5ms/step - loss: 0.4593 - accuracy: 0.8484\n",
            "Epoch 62/100\n",
            "52/52 [==============================] - 0s 5ms/step - loss: 0.3544 - accuracy: 0.8848\n",
            "Epoch 63/100\n",
            "52/52 [==============================] - 0s 5ms/step - loss: 0.2592 - accuracy: 0.9133\n",
            "Epoch 64/100\n",
            "52/52 [==============================] - 0s 5ms/step - loss: 0.2280 - accuracy: 0.9242\n",
            "Epoch 65/100\n",
            "52/52 [==============================] - 0s 5ms/step - loss: 0.2953 - accuracy: 0.9012\n",
            "Epoch 66/100\n",
            "52/52 [==============================] - 0s 5ms/step - loss: 0.2374 - accuracy: 0.9169\n",
            "Epoch 67/100\n",
            "52/52 [==============================] - 0s 5ms/step - loss: 0.2580 - accuracy: 0.9115\n",
            "Epoch 68/100\n",
            "52/52 [==============================] - 0s 5ms/step - loss: 0.2317 - accuracy: 0.9193\n",
            "Epoch 69/100\n",
            "52/52 [==============================] - 0s 5ms/step - loss: 0.2118 - accuracy: 0.9333\n",
            "Epoch 70/100\n",
            "52/52 [==============================] - 0s 5ms/step - loss: 0.2086 - accuracy: 0.9339\n",
            "Epoch 71/100\n",
            "52/52 [==============================] - 0s 5ms/step - loss: 0.2193 - accuracy: 0.9278\n",
            "Epoch 72/100\n",
            "52/52 [==============================] - 0s 5ms/step - loss: 0.2557 - accuracy: 0.9066\n",
            "Epoch 73/100\n",
            "52/52 [==============================] - 0s 5ms/step - loss: 0.1967 - accuracy: 0.9381\n",
            "Epoch 74/100\n",
            "52/52 [==============================] - 0s 5ms/step - loss: 0.1843 - accuracy: 0.9442\n",
            "Epoch 75/100\n",
            "52/52 [==============================] - 0s 5ms/step - loss: 0.1808 - accuracy: 0.9424\n",
            "Epoch 76/100\n",
            "52/52 [==============================] - 0s 5ms/step - loss: 0.2514 - accuracy: 0.9121\n",
            "Epoch 77/100\n",
            "52/52 [==============================] - 0s 5ms/step - loss: 0.1968 - accuracy: 0.9230\n",
            "Epoch 78/100\n",
            "52/52 [==============================] - 0s 5ms/step - loss: 0.2274 - accuracy: 0.9230\n",
            "Epoch 79/100\n",
            "52/52 [==============================] - 0s 5ms/step - loss: 0.2955 - accuracy: 0.8963\n",
            "Epoch 80/100\n",
            "52/52 [==============================] - 0s 5ms/step - loss: 0.1639 - accuracy: 0.9466\n",
            "Epoch 81/100\n",
            "52/52 [==============================] - 0s 5ms/step - loss: 0.2483 - accuracy: 0.9163\n",
            "Epoch 82/100\n",
            "52/52 [==============================] - 0s 5ms/step - loss: 0.2259 - accuracy: 0.9084\n",
            "Epoch 83/100\n",
            "52/52 [==============================] - 0s 5ms/step - loss: 0.1996 - accuracy: 0.9272\n",
            "Epoch 84/100\n",
            "52/52 [==============================] - 0s 5ms/step - loss: 0.1501 - accuracy: 0.9533\n",
            "Epoch 85/100\n",
            "52/52 [==============================] - 0s 5ms/step - loss: 0.1473 - accuracy: 0.9533\n",
            "Epoch 86/100\n",
            "52/52 [==============================] - 0s 5ms/step - loss: 0.2610 - accuracy: 0.8933\n",
            "Epoch 87/100\n",
            "52/52 [==============================] - 0s 5ms/step - loss: 0.2637 - accuracy: 0.9090\n",
            "Epoch 88/100\n",
            "52/52 [==============================] - 0s 5ms/step - loss: 0.1937 - accuracy: 0.9339\n",
            "Epoch 89/100\n",
            "52/52 [==============================] - 0s 5ms/step - loss: 0.1388 - accuracy: 0.9539\n",
            "Epoch 90/100\n",
            "52/52 [==============================] - 0s 6ms/step - loss: 0.1105 - accuracy: 0.9612\n",
            "Epoch 91/100\n",
            "52/52 [==============================] - 0s 5ms/step - loss: 0.1461 - accuracy: 0.9545\n",
            "Epoch 92/100\n",
            "52/52 [==============================] - 0s 5ms/step - loss: 0.1272 - accuracy: 0.9606\n",
            "Epoch 93/100\n",
            "52/52 [==============================] - 0s 5ms/step - loss: 0.1263 - accuracy: 0.9539\n",
            "Epoch 94/100\n",
            "52/52 [==============================] - 0s 5ms/step - loss: 0.1301 - accuracy: 0.9618\n",
            "Epoch 95/100\n",
            "52/52 [==============================] - 0s 5ms/step - loss: 0.1187 - accuracy: 0.9582\n",
            "Epoch 96/100\n",
            "52/52 [==============================] - 0s 5ms/step - loss: 0.1173 - accuracy: 0.9576\n",
            "Epoch 97/100\n",
            "52/52 [==============================] - 0s 5ms/step - loss: 0.1081 - accuracy: 0.9673\n",
            "Epoch 98/100\n",
            "52/52 [==============================] - 0s 5ms/step - loss: 0.3485 - accuracy: 0.8811\n",
            "Epoch 99/100\n",
            "52/52 [==============================] - 0s 5ms/step - loss: 0.2137 - accuracy: 0.9206\n",
            "Epoch 100/100\n",
            "52/52 [==============================] - 0s 5ms/step - loss: 0.2903 - accuracy: 0.8878\n"
          ]
        },
        {
          "output_type": "execute_result",
          "data": {
            "text/plain": [
              "<keras.callbacks.History at 0x7f410008d550>"
            ]
          },
          "metadata": {},
          "execution_count": 19
        }
      ]
    },
    {
      "cell_type": "code",
      "source": [
        "model.evaluate(Xtest,y_test)"
      ],
      "metadata": {
        "colab": {
          "base_uri": "https://localhost:8080/"
        },
        "id": "0kdJpAI1OTt0",
        "outputId": "26904e7f-49f4-4164-a859-4735e64b0fcb"
      },
      "execution_count": 20,
      "outputs": [
        {
          "output_type": "stream",
          "name": "stdout",
          "text": [
            "13/13 [==============================] - 0s 4ms/step - loss: 0.6558 - accuracy: 0.8547\n"
          ]
        },
        {
          "output_type": "execute_result",
          "data": {
            "text/plain": [
              "[0.6557701230049133, 0.8547215461730957]"
            ]
          },
          "metadata": {},
          "execution_count": 20
        }
      ]
    },
    {
      "cell_type": "code",
      "source": [
        "model.predict(Xtest[3].reshape(1,-1)).round()"
      ],
      "metadata": {
        "colab": {
          "base_uri": "https://localhost:8080/"
        },
        "id": "7jZnUYwRPBwd",
        "outputId": "23e94645-9f08-4b66-f1f4-6cf2677623d4"
      },
      "execution_count": 25,
      "outputs": [
        {
          "output_type": "execute_result",
          "data": {
            "text/plain": [
              "array([[0., 1., 0., 0., 0., 0., 0., 0., 0., 0.]], dtype=float32)"
            ]
          },
          "metadata": {},
          "execution_count": 25
        }
      ]
    },
    {
      "cell_type": "code",
      "source": [
        "plt.imshow(x_test[3])"
      ],
      "metadata": {
        "colab": {
          "base_uri": "https://localhost:8080/",
          "height": 286
        },
        "id": "bDFFT3xkP6ZL",
        "outputId": "2bb74d91-a656-4bf3-82e8-95cafa31d75c"
      },
      "execution_count": 26,
      "outputs": [
        {
          "output_type": "execute_result",
          "data": {
            "text/plain": [
              "<matplotlib.image.AxesImage at 0x7f4090a319d0>"
            ]
          },
          "metadata": {},
          "execution_count": 26
        },
        {
          "output_type": "display_data",
          "data": {
            "image/png": "[encoded data removed]",
            "text/plain": [
              "<Figure size 432x288 with 1 Axes>"
            ]
          },
          "metadata": {
            "needs_background": "light"
          }
        }
      ]
    },
    {
      "cell_type": "code",
      "source": [
        "model.summary()"
      ],
      "metadata": {
        "id": "fYuGlgjFQHiL"
      },
      "execution_count": null,
      "outputs": []
    },
    {
      "cell_type": "code",
      "source": [
        ""
      ],
      "metadata": {
        "id": "D1oQ-rxiQxSa"
      },
      "execution_count": null,
      "outputs": []
    }
  ]
}