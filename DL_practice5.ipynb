{
  "nbformat": 4,
  "nbformat_minor": 0,
  "metadata": {
    "colab": {
      "name": "DL_practice5.ipynb",
      "provenance": [],
      "authorship_tag": "ABX9TyPqjLlkMAPvV7+SrmhwVtrS",
      "include_colab_link": true
    },
    "kernelspec": {
      "name": "python3",
      "display_name": "Python 3"
    },
    "language_info": {
      "name": "python"
    },
    "accelerator": "GPU"
  },
  "cells": [
    {
      "cell_type": "markdown",
      "metadata": {
        "id": "view-in-github",
        "colab_type": "text"
      },
      "source": [
        "<a href=\"https://colab.research.google.com/github/Shreeranga1/DeepLearningPractice/blob/main/DL_practice5.ipynb\" target=\"_parent\"><img src=\"https://colab.research.google.com/assets/colab-badge.svg\" alt=\"Open In Colab\"/></a>"
      ]
    },
    {
      "cell_type": "code",
      "execution_count": 18,
      "metadata": {
        "id": "bXsponm_zjh9"
      },
      "outputs": [],
      "source": [
        "import numpy as np\n",
        "import cv2\n",
        "import matplotlib.pyplot as plt\n",
        "import tensorflow as tf\n",
        "from tensorflow.keras.models import Sequential\n",
        "import tensorflow as tf\n",
        "import tensorflow_hub as hub\n",
        "\n",
        "from tensorflow import keras\n",
        "from tensorflow.keras import layers\n",
        "import PIL.Image as Image"
      ]
    },
    {
      "cell_type": "code",
      "source": [
        "\n",
        "Image_Shape=(224,224)\n"
      ],
      "metadata": {
        "id": "YA0IjU0ME_zc"
      },
      "execution_count": 19,
      "outputs": []
    },
    {
      "cell_type": "code",
      "source": [
        "classifier=tf.keras.Sequential([hub.KerasLayer(\"https://tfhub.dev/google/tf2-preview/mobilenet_v2/classification/4\",input_shape=Image_Shape+(3,))])"
      ],
      "metadata": {
        "id": "L_NKOcIXIe8B"
      },
      "execution_count": 20,
      "outputs": []
    },
    {
      "cell_type": "code",
      "source": [
        "gold_fish =Image.open(\"/content/goldFish.jpg\").resize(Image_Shape)"
      ],
      "metadata": {
        "id": "eKKvJ014JHiJ"
      },
      "execution_count": 21,
      "outputs": []
    },
    {
      "cell_type": "code",
      "source": [
        "gold_fish = np.array(gold_fish)/255.0"
      ],
      "metadata": {
        "id": "w5WuGe-Lq9Y4"
      },
      "execution_count": 22,
      "outputs": []
    },
    {
      "cell_type": "code",
      "source": [
        "result=classifier.predict(gold_fish[np.newaxis, ...])"
      ],
      "metadata": {
        "id": "vyA2tYRvtLZa"
      },
      "execution_count": 23,
      "outputs": []
    },
    {
      "cell_type": "code",
      "source": [
        "np.argmax(result)"
      ],
      "metadata": {
        "id": "-5tclv4wt8B5",
        "colab": {
          "base_uri": "https://localhost:8080/"
        },
        "outputId": "f09f5d2b-5491-4b86-c687-7b52522e9828"
      },
      "execution_count": 24,
      "outputs": [
        {
          "output_type": "execute_result",
          "data": {
            "text/plain": [
              "2"
            ]
          },
          "metadata": {},
          "execution_count": 24
        }
      ]
    },
    {
      "cell_type": "code",
      "source": [
        "tf.keras.utils.get_file('ImageNetLabels.txt','https://storage.googleapis.com/download.tensorflow.org/data/ImageNetLabels.txt')"
      ],
      "metadata": {
        "id": "01GyJGHmudkG",
        "colab": {
          "base_uri": "https://localhost:8080/",
          "height": 35
        },
        "outputId": "fc4c6e8d-2337-467b-9c69-3b125e9328e7"
      },
      "execution_count": 25,
      "outputs": [
        {
          "output_type": "execute_result",
          "data": {
            "application/vnd.google.colaboratory.intrinsic+json": {
              "type": "string"
            },
            "text/plain": [
              "'/root/.keras/datasets/ImageNetLabels.txt'"
            ]
          },
          "metadata": {},
          "execution_count": 25
        }
      ]
    },
    {
      "cell_type": "code",
      "source": [
        "image_labels=[]\n",
        "with open(\"/content/ImageNetLabels.txt\",\"r\") as f:\n",
        "  image_labels=f.read().splitlines()\n",
        "image_labels[:5]"
      ],
      "metadata": {
        "id": "BxqzYoHuvqr3",
        "colab": {
          "base_uri": "https://localhost:8080/"
        },
        "outputId": "9c6236de-e881-44dc-fdef-70f651bea19f"
      },
      "execution_count": 26,
      "outputs": [
        {
          "output_type": "execute_result",
          "data": {
            "text/plain": [
              "['background', 'tench', 'goldfish', 'great white shark', 'tiger shark']"
            ]
          },
          "metadata": {},
          "execution_count": 26
        }
      ]
    },
    {
      "cell_type": "code",
      "source": [
        "dataset_url = \"https://storage.googleapis.com/download.tensorflow.org/example_images/flower_photos.tgz\"\n",
        "data_dir=tf.keras.utils.get_file(\"flower_photos\",origin=dataset_url,cache_dir=\".\",untar=True)"
      ],
      "metadata": {
        "id": "9heVp-qhwfLm"
      },
      "execution_count": 27,
      "outputs": []
    },
    {
      "cell_type": "code",
      "source": [
        "data_dir"
      ],
      "metadata": {
        "colab": {
          "base_uri": "https://localhost:8080/",
          "height": 35
        },
        "id": "iBktPe3oyu7k",
        "outputId": "b3ed63f4-1338-4697-c5d6-9b3ee0df4b40"
      },
      "execution_count": 28,
      "outputs": [
        {
          "output_type": "execute_result",
          "data": {
            "application/vnd.google.colaboratory.intrinsic+json": {
              "type": "string"
            },
            "text/plain": [
              "'./datasets/flower_photos'"
            ]
          },
          "metadata": {},
          "execution_count": 28
        }
      ]
    },
    {
      "cell_type": "code",
      "source": [
        "import pathlib\n",
        "data_dir = pathlib.Path(data_dir)\n",
        "data_dir"
      ],
      "metadata": {
        "colab": {
          "base_uri": "https://localhost:8080/"
        },
        "id": "8nV487EEzTLd",
        "outputId": "59e48f52-e3c9-4998-9371-8103f23b46cb"
      },
      "execution_count": 29,
      "outputs": [
        {
          "output_type": "execute_result",
          "data": {
            "text/plain": [
              "PosixPath('datasets/flower_photos')"
            ]
          },
          "metadata": {},
          "execution_count": 29
        }
      ]
    },
    {
      "cell_type": "code",
      "source": [
        "list(data_dir.glob('*/*.jpg'))[:5]"
      ],
      "metadata": {
        "colab": {
          "base_uri": "https://localhost:8080/"
        },
        "id": "nfXWcISh4ysp",
        "outputId": "67d17cab-861a-4cfc-ea5e-b7bb197e2179"
      },
      "execution_count": 30,
      "outputs": [
        {
          "output_type": "execute_result",
          "data": {
            "text/plain": [
              "[PosixPath('datasets/flower_photos/roses/4754734410_94d98463a5.jpg'),\n",
              " PosixPath('datasets/flower_photos/roses/2215318403_06eb99176a.jpg'),\n",
              " PosixPath('datasets/flower_photos/roses/3624546109_8eb98f0cdb.jpg'),\n",
              " PosixPath('datasets/flower_photos/roses/14494590921_3bb1dc7b88_n.jpg'),\n",
              " PosixPath('datasets/flower_photos/roses/17158274118_00ec99a23c.jpg')]"
            ]
          },
          "metadata": {},
          "execution_count": 30
        }
      ]
    },
    {
      "cell_type": "code",
      "source": [
        "flowers_images_dict = {\n",
        "    'roses': list(data_dir.glob('roses/*')),\n",
        "    'daisy': list(data_dir.glob('daisy/*')),\n",
        "    'dandelion': list(data_dir.glob('dandelion/*')),\n",
        "    'sunflowers': list(data_dir.glob('sunflowers/*')),\n",
        "    'tulips': list(data_dir.glob('tulips/*')),\n",
        "}"
      ],
      "metadata": {
        "id": "xb0z72aJ42sX"
      },
      "execution_count": 31,
      "outputs": []
    },
    {
      "cell_type": "code",
      "source": [
        "flowers_labels_dict = {\n",
        "    'roses': 0,\n",
        "    'daisy': 1,\n",
        "    'dandelion': 2,\n",
        "    'sunflowers': 3,\n",
        "    'tulips': 4,\n",
        "}"
      ],
      "metadata": {
        "id": "iiFCezfY5AHQ"
      },
      "execution_count": 32,
      "outputs": []
    },
    {
      "cell_type": "code",
      "source": [
        "flowers_images_dict['roses'][:5]"
      ],
      "metadata": {
        "colab": {
          "base_uri": "https://localhost:8080/"
        },
        "id": "j-G2xeC65Bfg",
        "outputId": "73557bb6-e54f-4c23-94a4-934090fd1cad"
      },
      "execution_count": 33,
      "outputs": [
        {
          "output_type": "execute_result",
          "data": {
            "text/plain": [
              "[PosixPath('datasets/flower_photos/roses/4754734410_94d98463a5.jpg'),\n",
              " PosixPath('datasets/flower_photos/roses/2215318403_06eb99176a.jpg'),\n",
              " PosixPath('datasets/flower_photos/roses/3624546109_8eb98f0cdb.jpg'),\n",
              " PosixPath('datasets/flower_photos/roses/14494590921_3bb1dc7b88_n.jpg'),\n",
              " PosixPath('datasets/flower_photos/roses/17158274118_00ec99a23c.jpg')]"
            ]
          },
          "metadata": {},
          "execution_count": 33
        }
      ]
    },
    {
      "cell_type": "code",
      "source": [
        "img=cv2.imread(str(flowers_images_dict['daisy'][1]))"
      ],
      "metadata": {
        "id": "aIgC4vt35Dxw"
      },
      "execution_count": 34,
      "outputs": []
    },
    {
      "cell_type": "code",
      "source": [
        "cv2.resize(img,(224,224)).shape"
      ],
      "metadata": {
        "colab": {
          "base_uri": "https://localhost:8080/"
        },
        "id": "Noe4XHnm5RQ1",
        "outputId": "276a696a-02f3-42e0-e65c-c3b3c096470a"
      },
      "execution_count": 35,
      "outputs": [
        {
          "output_type": "execute_result",
          "data": {
            "text/plain": [
              "(224, 224, 3)"
            ]
          },
          "metadata": {},
          "execution_count": 35
        }
      ]
    },
    {
      "cell_type": "code",
      "source": [
        "X, y = [], []\n",
        "\n",
        "for flower_name, images in flowers_images_dict.items():\n",
        "    for image in images:\n",
        "        img = cv2.imread(str(image))\n",
        "        resized_img = cv2.resize(img,(224,224))\n",
        "        X.append(resized_img)\n",
        "        y.append(flowers_labels_dict[flower_name])"
      ],
      "metadata": {
        "id": "Ht7dJXv65UNV"
      },
      "execution_count": 36,
      "outputs": []
    },
    {
      "cell_type": "code",
      "source": [
        "from sklearn.model_selection import train_test_split\n",
        "X_train, X_test, y_train, y_test = train_test_split(X, y, random_state=0)"
      ],
      "metadata": {
        "id": "N9wpGyRF5nWP"
      },
      "execution_count": 37,
      "outputs": []
    },
    {
      "cell_type": "code",
      "source": [
        "X_train_scaled = [item/255 for item in X_train]\n",
        "X_test_scaled = [item/255 for item in X_test]"
      ],
      "metadata": {
        "id": "9ZOyGSEk5rNb"
      },
      "execution_count": null,
      "outputs": []
    },
    {
      "cell_type": "code",
      "source": [
        "IMAGE_SHAPE = (224, 224)\n",
        "IMAGE_SHAPE+(3,)"
      ],
      "metadata": {
        "colab": {
          "base_uri": "https://localhost:8080/"
        },
        "id": "E0cMsNVa5siX",
        "outputId": "06a68a35-8d97-437e-8758-ffc562ad7018"
      },
      "execution_count": 39,
      "outputs": [
        {
          "output_type": "execute_result",
          "data": {
            "text/plain": [
              "(224, 224, 3)"
            ]
          },
          "metadata": {},
          "execution_count": 39
        }
      ]
    },
    {
      "cell_type": "code",
      "source": [
        "x0_resized = cv2.resize(X[0], IMAGE_SHAPE)\n",
        "x1_resized = cv2.resize(X[1], IMAGE_SHAPE)\n",
        "x2_resized = cv2.resize(X[2], IMAGE_SHAPE)"
      ],
      "metadata": {
        "id": "PLkAUaYn5_J_"
      },
      "execution_count": 40,
      "outputs": []
    },
    {
      "cell_type": "code",
      "source": [
        "feature_extractor_model = \"https://tfhub.dev/google/tf2-preview/mobilenet_v2/feature_vector/4\""
      ],
      "metadata": {
        "id": "kTXouNE16LMf"
      },
      "execution_count": 41,
      "outputs": []
    },
    {
      "cell_type": "code",
      "source": [
        "pretrained_model_without_top_layer =hub.KerasLayer(feature_extractor_model,input_shape=(224,224,3),trainable=False)"
      ],
      "metadata": {
        "id": "gFXdIw0x6Uo6"
      },
      "execution_count": 42,
      "outputs": []
    },
    {
      "cell_type": "code",
      "source": [
        "num_of_flowers = 5\n",
        "model=tf.keras.Sequential([pretrained_model_without_top_layer,tf.keras.layers.Dense(num_of_flowers)])\n",
        "model.summary()"
      ],
      "metadata": {
        "colab": {
          "base_uri": "https://localhost:8080/"
        },
        "id": "aupKUPcg_9eR",
        "outputId": "e244c98c-00ab-4009-85aa-8b1b3e023bde"
      },
      "execution_count": 43,
      "outputs": [
        {
          "output_type": "stream",
          "name": "stdout",
          "text": [
            "Model: \"sequential_4\"\n",
            "_________________________________________________________________\n",
            " Layer (type)                Output Shape              Param #   \n",
            "=================================================================\n",
            " keras_layer_4 (KerasLayer)  (None, 1280)              2257984   \n",
            "                                                                 \n",
            " dense (Dense)               (None, 5)                 6405      \n",
            "                                                                 \n",
            "=================================================================\n",
            "Total params: 2,264,389\n",
            "Trainable params: 6,405\n",
            "Non-trainable params: 2,257,984\n",
            "_________________________________________________________________\n"
          ]
        }
      ]
    },
    {
      "cell_type": "code",
      "source": [
        "model.compile(\n",
        "  optimizer=\"adam\",\n",
        "  loss=tf.keras.losses.SparseCategoricalCrossentropy(from_logits=True),\n",
        "  metrics=['acc'])\n",
        "\n",
        "model.fit(X_train_scaled, y_train, epochs=5)"
      ],
      "metadata": {
        "id": "EbQyn4kPAeep",
        "colab": {
          "base_uri": "https://localhost:8080/",
          "height": 242
        },
        "outputId": "d6490c9c-f169-4c4e-a2ab-87901a630482"
      },
      "execution_count": 1,
      "outputs": [
        {
          "output_type": "error",
          "ename": "NameError",
          "evalue": "ignored",
          "traceback": [
            "\u001b[0;31m---------------------------------------------------------------------------\u001b[0m",
            "\u001b[0;31mNameError\u001b[0m                                 Traceback (most recent call last)",
            "\u001b[0;32m<ipython-input-1-4c5c7362f326>\u001b[0m in \u001b[0;36m<module>\u001b[0;34m()\u001b[0m\n\u001b[0;32m----> 1\u001b[0;31m model.compile(\n\u001b[0m\u001b[1;32m      2\u001b[0m   \u001b[0moptimizer\u001b[0m\u001b[0;34m=\u001b[0m\u001b[0;34m\"adam\"\u001b[0m\u001b[0;34m,\u001b[0m\u001b[0;34m\u001b[0m\u001b[0;34m\u001b[0m\u001b[0m\n\u001b[1;32m      3\u001b[0m   \u001b[0mloss\u001b[0m\u001b[0;34m=\u001b[0m\u001b[0mtf\u001b[0m\u001b[0;34m.\u001b[0m\u001b[0mkeras\u001b[0m\u001b[0;34m.\u001b[0m\u001b[0mlosses\u001b[0m\u001b[0;34m.\u001b[0m\u001b[0mSparseCategoricalCrossentropy\u001b[0m\u001b[0;34m(\u001b[0m\u001b[0mfrom_logits\u001b[0m\u001b[0;34m=\u001b[0m\u001b[0;32mTrue\u001b[0m\u001b[0;34m)\u001b[0m\u001b[0;34m,\u001b[0m\u001b[0;34m\u001b[0m\u001b[0;34m\u001b[0m\u001b[0m\n\u001b[1;32m      4\u001b[0m   metrics=['acc'])\n\u001b[1;32m      5\u001b[0m \u001b[0;34m\u001b[0m\u001b[0m\n",
            "\u001b[0;31mNameError\u001b[0m: name 'model' is not defined"
          ]
        }
      ]
    },
    {
      "cell_type": "code",
      "source": [
        ""
      ],
      "metadata": {
        "id": "C1d4UlegA_Xv"
      },
      "execution_count": null,
      "outputs": []
    }
  ]
}