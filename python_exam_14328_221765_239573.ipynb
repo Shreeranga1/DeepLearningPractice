{
 "cells": [
  {
   "cell_type": "markdown",
   "metadata": {
    "id": "EmON-RaPfyKj"
   },
   "source": [
    "** PART A 30 MARKS- PLEASE ATTEMPT ALL THE QUESTIONS**"
   ]
  },
  {
   "cell_type": "code",
   "execution_count": 2,
   "metadata": {
    "id": "CMCChwUmnXro"
   },
   "outputs": [],
   "source": [
    "# Import `tensorflow`\n",
    "import tensorflow as tf\n",
    "import numpy as np"
   ]
  },
  {
   "cell_type": "markdown",
   "metadata": {
    "id": "EoT-LQwfm-1M"
   },
   "source": [
    "# Question 1: \n",
    "\n",
    "create two random tensors of size (1,5) and data type of float. Print the cummulative sum of product of each element between two tensors. (2 marks)\n",
    "\n",
    "A = [a1,a2,a3] = B[b1,b2,b3]\n",
    "\n",
    "res= a1 * b1 + a2 * b2 + a3 * b3\n",
    "\n"
   ]
  },
  {
   "cell_type": "code",
   "execution_count": 97,
   "metadata": {},
   "outputs": [],
   "source": [
    "A = tf.Variable(np.random.random(size=(1,5)))\n",
    "B = tf.Variable(np.random.random(size=(1,5)))"
   ]
  },
  {
   "cell_type": "code",
   "execution_count": 98,
   "metadata": {},
   "outputs": [
    {
     "data": {
      "text/plain": [
       "<tf.Variable 'Variable:0' shape=(1, 5) dtype=float64, numpy=array([[0.53542994, 0.4829077 , 0.19650565, 0.00378436, 0.10486137]])>"
      ]
     },
     "execution_count": 98,
     "metadata": {},
     "output_type": "execute_result"
    }
   ],
   "source": [
    "A"
   ]
  },
  {
   "cell_type": "code",
   "execution_count": 99,
   "metadata": {},
   "outputs": [
    {
     "data": {
      "text/plain": [
       "<tf.Variable 'Variable:0' shape=(1, 5) dtype=float64, numpy=array([[0.89193842, 0.70508171, 0.41806634, 0.32954951, 0.48374587]])>"
      ]
     },
     "execution_count": 99,
     "metadata": {},
     "output_type": "execute_result"
    }
   ],
   "source": [
    "B"
   ]
  },
  {
   "cell_type": "code",
   "execution_count": 100,
   "metadata": {},
   "outputs": [
    {
     "name": "stdout",
     "output_type": "stream",
     "text": [
      "tf.Tensor(4.151870847868469, shape=(), dtype=float64)\n"
     ]
    }
   ],
   "source": [
    "sum_tf = tf.reduce_sum(A+B)    \n",
    "print(sum_tf)"
   ]
  },
  {
   "cell_type": "markdown",
   "metadata": {
    "id": "mFOvV_V4ldqj"
   },
   "source": [
    "# Question 2: \n",
    "\n",
    "Create a Random tensor of size (4,4) and replace the first row with all 1s. (2 Marks)\n"
   ]
  },
  {
   "cell_type": "code",
   "execution_count": 61,
   "metadata": {},
   "outputs": [
    {
     "data": {
      "text/plain": [
       "<tf.Variable 'Variable:0' shape=(4, 4) dtype=float64, numpy=\n",
       "array([[0.27160181, 0.00136733, 0.7809709 , 0.9309071 ],\n",
       "       [0.11204057, 0.7311461 , 0.17439464, 0.42396829],\n",
       "       [0.60737633, 0.87164462, 0.67013866, 0.601281  ],\n",
       "       [0.1800965 , 0.69342104, 0.93409485, 0.95019625]])>"
      ]
     },
     "execution_count": 61,
     "metadata": {},
     "output_type": "execute_result"
    }
   ],
   "source": [
    "c = tf.Variable(np.random.random(size=(4,4)))\n",
    "c"
   ]
  },
  {
   "cell_type": "code",
   "execution_count": 62,
   "metadata": {},
   "outputs": [
    {
     "data": {
      "text/plain": [
       "<tf.Variable 'UnreadVariable' shape=(4, 4) dtype=float64, numpy=\n",
       "array([[1.        , 1.        , 1.        , 1.        ],\n",
       "       [0.11204057, 0.7311461 , 0.17439464, 0.42396829],\n",
       "       [0.60737633, 0.87164462, 0.67013866, 0.601281  ],\n",
       "       [0.1800965 , 0.69342104, 0.93409485, 0.95019625]])>"
      ]
     },
     "execution_count": 62,
     "metadata": {},
     "output_type": "execute_result"
    }
   ],
   "source": [
    "c[0,:].assign([1,1,1,1])"
   ]
  },
  {
   "cell_type": "markdown",
   "metadata": {
    "id": "7Z48rYK0laEL"
   },
   "source": [
    "# Question 3: \n",
    "\n",
    "Create two tensors [3,2] and [4,6]. Compute the equilidean distance between the two tensor points (2 marks)\n"
   ]
  },
  {
   "cell_type": "code",
   "execution_count": 26,
   "metadata": {
    "colab": {
     "base_uri": "https://localhost:8080/"
    },
    "id": "x-vB2IvOe1QV",
    "outputId": "36efc745-7194-45b8-e234-800d022f14f9"
   },
   "outputs": [],
   "source": [
    "q1 = tf.constant([3,2])\n",
    "q2 = tf.constant([4,6])"
   ]
  },
  {
   "cell_type": "code",
   "execution_count": 29,
   "metadata": {},
   "outputs": [
    {
     "name": "stdout",
     "output_type": "stream",
     "text": [
      "4.123105625617661\n"
     ]
    }
   ],
   "source": [
    "EQDist = np.linalg.norm(q1 - q2)\n",
    "print(EQDist)"
   ]
  },
  {
   "cell_type": "markdown",
   "metadata": {
    "id": "vJT65pzjsgRV"
   },
   "source": [
    "# Question 4: \n",
    "Plot the Relu activation function using the equation. keep the x value between -10 to 10 (2 Marks)\n"
   ]
  },
  {
   "cell_type": "code",
   "execution_count": 31,
   "metadata": {},
   "outputs": [],
   "source": [
    "from matplotlib import pyplot "
   ]
  },
  {
   "cell_type": "code",
   "execution_count": 34,
   "metadata": {},
   "outputs": [
    {
     "data": {
      "image/png": "[encoded data removed]",
      "text/plain": [
       "<Figure size 432x288 with 1 Axes>"
      ]
     },
     "metadata": {
      "needs_background": "light"
     },
     "output_type": "display_data"
    }
   ],
   "source": [
    "def ref(x):\n",
    "    return max(0.0,x)\n",
    "\n",
    "inp = [x for x in range(-10,10)]\n",
    "out = [ref(x)for x in inp]\n",
    "\n",
    "pyplot.plot(inp,out)\n",
    "pyplot.show()"
   ]
  },
  {
   "cell_type": "markdown",
   "metadata": {
    "id": "nzRGpSwxFvPy"
   },
   "source": [
    "# Question 5: "
   ]
  },
  {
   "cell_type": "markdown",
   "metadata": {
    "id": "myV9q0nk6knJ"
   },
   "source": [
    "#### The task is to build the DNN model for predicting 5 different type of tumors from the given dataset. Each given tumor image size is 28x28 pixels.  Fill the missing information in the following architecture.\n",
    "\n",
    "from tensorflow.keras.models import Sequential\n",
    "\n",
    "from tensorflow.keras.layers import Dense\n",
    "\n",
    "img_classifier=Sequential() \n",
    "\n",
    "img_classifier.add(Dense(units=512,activation='relu',input_dim= _ _ _ ))\n",
    "\n",
    "img_classifier.add(Dense(units=256,activation='relu'))\n",
    "\n",
    "img_classifier.add(Dense(units= _ _ _ , activation= _ _ _ ))       \n",
    "\n",
    "(2 marks)\n"
   ]
  },
  {
   "cell_type": "code",
   "execution_count": 42,
   "metadata": {
    "colab": {
     "base_uri": "https://localhost:8080/"
    },
    "id": "dvNsMfbXhEQ2",
    "outputId": "a5677090-01ab-4e68-fef7-36309d448066"
   },
   "outputs": [],
   "source": [
    "from tensorflow.keras.models import Sequential\n",
    "from tensorflow.keras.layers import Dense\n",
    "\n",
    "img_Classifier = Sequential()\n",
    "img_Classifier.add(Dense(units=512,activation = 'relu',input_dim=764))\n",
    "img_Classifier.add(Dense(units=256,activation = 'relu'   ))\n",
    "img_Classifier.add(Dense(units=5  ,activation = 'softmax'))"
   ]
  },
  {
   "cell_type": "code",
   "execution_count": 43,
   "metadata": {},
   "outputs": [
    {
     "name": "stdout",
     "output_type": "stream",
     "text": [
      "Model: \"sequential\"\n",
      "_________________________________________________________________\n",
      "Layer (type)                 Output Shape              Param #   \n",
      "=================================================================\n",
      "dense (Dense)                (None, 512)               391680    \n",
      "_________________________________________________________________\n",
      "dense_1 (Dense)              (None, 256)               131328    \n",
      "_________________________________________________________________\n",
      "dense_2 (Dense)              (None, 5)                 1285      \n",
      "=================================================================\n",
      "Total params: 524,293\n",
      "Trainable params: 524,293\n",
      "Non-trainable params: 0\n",
      "_________________________________________________________________\n"
     ]
    }
   ],
   "source": [
    "img_Classifier.summary()"
   ]
  },
  {
   "cell_type": "markdown",
   "metadata": {
    "id": "ZOJ9dPZR7COn"
   },
   "source": [
    "# Question 6: \n",
    "\n",
    "What are the advantage of using Neural Networks in Deep Learning models? ( 2 marks)\n",
    "\n",
    "1. It has an ability to work with the insufficient knowledge \n",
    "\n",
    "2. Store information on the entire network \n",
    "\n",
    "3. Has a very good distributed memory \n",
    "\n",
    "4. Has ability to train machine, also do prallel processing "
   ]
  },
  {
   "cell_type": "markdown",
   "metadata": {},
   "source": []
  },
  {
   "cell_type": "markdown",
   "metadata": {},
   "source": [
    "# Question 7: \n",
    "The DNN neural network constructed(trained) with one hidden layer with 2 neurons to predict the output class (0 or 1). \n",
    "\n",
    "The first stage trained weights are w11=w12=1,w21=w22=0, w31=w32=-1, w41=w42=0\n",
    "\n",
    "The second stage trained weights are v11=v21=-1\n",
    "\n",
    "Relu activation function is used for Hidden layer and sigmoidal is used for output layer\n",
    "\n",
    "Find the probability value of the output neuron for the Input x1= 2, x2 = 4, x3=1, x4=5  \n",
    "\n",
    "(Use python or manually workout and type the answer with steps)\n",
    "\n",
    "(8 marks)"
   ]
  },
  {
   "cell_type": "code",
   "execution_count": 88,
   "metadata": {},
   "outputs": [],
   "source": [
    "x1 = 2 \n",
    "x2 = 4 \n",
    "x3 = 1\n",
    "x4 = 5\n",
    "\n",
    "w11 = 1\n",
    "w12 = 1\n",
    "w21 = 0 \n",
    "w22 = 0\n",
    "w31 = -1\n",
    "w32 = -1\n",
    "w41 = 0\n",
    "w42 = 0\n",
    "\n",
    "v11 = -1\n",
    "v21 = -1"
   ]
  },
  {
   "cell_type": "code",
   "execution_count": 89,
   "metadata": {},
   "outputs": [
    {
     "name": "stdout",
     "output_type": "stream",
     "text": [
      "Relu is: 1\n"
     ]
    }
   ],
   "source": [
    "R1 = x1*w11+x2*w21+x3*w31+x4*w41\n",
    "print('Relu is:',R1)"
   ]
  },
  {
   "cell_type": "code",
   "execution_count": 90,
   "metadata": {},
   "outputs": [],
   "source": [
    "H1 = R1"
   ]
  },
  {
   "cell_type": "code",
   "execution_count": 91,
   "metadata": {},
   "outputs": [
    {
     "name": "stdout",
     "output_type": "stream",
     "text": [
      "Relu is: 1\n"
     ]
    }
   ],
   "source": [
    "R2 = x1*w12+x2*w22+x3*w32+x4*w42\n",
    "print('Relu is:',R2)"
   ]
  },
  {
   "cell_type": "code",
   "execution_count": 92,
   "metadata": {},
   "outputs": [],
   "source": [
    "H2 = R2"
   ]
  },
  {
   "cell_type": "code",
   "execution_count": 93,
   "metadata": {},
   "outputs": [
    {
     "name": "stdout",
     "output_type": "stream",
     "text": [
      "output is: -2\n"
     ]
    }
   ],
   "source": [
    "output = v11*H1 + v21*H2\n",
    "print('output is:',output)"
   ]
  },
  {
   "cell_type": "code",
   "execution_count": 94,
   "metadata": {},
   "outputs": [
    {
     "name": "stdout",
     "output_type": "stream",
     "text": [
      "Result is: tf.Tensor(0.11920291, shape=(), dtype=float32)\n"
     ]
    }
   ],
   "source": [
    "Result = tf.nn.sigmoid(output/1.)\n",
    "print('Result is:',Result)"
   ]
  },
  {
   "cell_type": "markdown",
   "metadata": {
    "id": "jRbakBRy-fRF"
   },
   "source": [
    "# Question 8: \n",
    "\n",
    "The CNN network architecture for the binary classification problem is given below:\n",
    "\n",
    "input --> conv2D  --> Maxpool --> conv2D --> Maxpool --> Flatten --> Hidden layer 1 --> Output layer\n",
    "\n",
    "Input image size is 64x64\n",
    "\n",
    "All convolution layer kernel size is 3x3 and number of kernals are 32, stride is 1 and padding is 0\n",
    "\n",
    "Maxpool layer window size is 2x2\n",
    "\n",
    "Hidden layer 1 have 64 neurons\n",
    "\n",
    "Calculate the feature map size at the output of each layer and also compute total number of parameter needs to be trained for the above model.Also type the tensorflow keras syntax for creating the above architecture.\n",
    "\n",
    "(10 Marks)"
   ]
  },
  {
   "cell_type": "code",
   "execution_count": 75,
   "metadata": {},
   "outputs": [
    {
     "name": "stdout",
     "output_type": "stream",
     "text": [
      "Model: \"sequential_7\"\n",
      "_________________________________________________________________\n",
      "Layer (type)                 Output Shape              Param #   \n",
      "=================================================================\n",
      "conv2d_2 (Conv2D)            (None, 64, 64, 32)        320       \n",
      "_________________________________________________________________\n",
      "max_pooling2d (MaxPooling2D) (None, 32, 32, 32)        0         \n",
      "_________________________________________________________________\n",
      "conv2d_3 (Conv2D)            (None, 32, 32, 32)        6176      \n",
      "_________________________________________________________________\n",
      "max_pooling2d_1 (MaxPooling2 (None, 16, 16, 32)        0         \n",
      "_________________________________________________________________\n",
      "flatten (Flatten)            (None, 8192)              0         \n",
      "_________________________________________________________________\n",
      "dense_3 (Dense)              (None, 64)                524352    \n",
      "_________________________________________________________________\n",
      "dense_4 (Dense)              (None, 1)                 65        \n",
      "=================================================================\n",
      "Total params: 530,913\n",
      "Trainable params: 530,913\n",
      "Non-trainable params: 0\n",
      "_________________________________________________________________\n"
     ]
    }
   ],
   "source": [
    "from tensorflow.keras.models import Sequential\n",
    "from tensorflow.keras.layers import Dense,Flatten,Conv2D,MaxPool2D\n",
    "\n",
    "model = Sequential()\n",
    "model.add(Conv2D(32,(3,3), activation='relu',input_shape=(64,64,1),strides=1, padding='same'))\n",
    "model.add(MaxPool2D(2,2))\n",
    "model.add(Conv2D(32,(2,3), activation = 'relu',input_shape=(64,64,1),strides =1, padding='same'))\n",
    "model.add(MaxPool2D(2,2))\n",
    "model.add(Flatten())\n",
    "model.add(Dense(units=64,activation='relu'))\n",
    "model.add(Dense(units=1,activation='sigmoid'))\n",
    "model.summary()"
   ]
  }
 ],
 "metadata": {
  "colab": {
   "collapsed_sections": [],
   "name": "GA-1 DL_SOLUTIONS_28th April 2021.ipynb",
   "provenance": []
  },
  "kernelspec": {
   "display_name": "Python 3 (ipykernel)",
   "language": "python",
   "name": "python3"
  },
  "language_info": {
   "codemirror_mode": {
    "name": "ipython",
    "version": 3
   },
   "file_extension": ".py",
   "mimetype": "text/x-python",
   "name": "python",
   "nbconvert_exporter": "python",
   "pygments_lexer": "ipython3",
   "version": "3.9.7"
  }
 },
 "nbformat": 4,
 "nbformat_minor": 1
}
